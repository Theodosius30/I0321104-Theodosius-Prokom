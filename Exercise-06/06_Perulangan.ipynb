{
 "cells": [
  {
   "cell_type": "markdown",
   "metadata": {},
   "source": [
    "***\n",
    "<h1 align=\"center\">Exercise 06</h1>\n",
    " \n",
    "***\n",
    "## While Loop\n",
    "## Exercise 6.1\n",
    "isilah bagian rumpang berikut. xx diganti tanggal lahir dan yy diganti menjadi bulan lahir. tandanya menyesuaikan yang lebih besar."
   ]
  },
  {
   "cell_type": "code",
   "execution_count": 1,
   "metadata": {},
   "outputs": [
    {
     "name": "stdout",
     "output_type": "stream",
     "text": [
      "Hidup harus menjadi berkat\n",
      "Hidup harus menjadi berkat\n",
      "Hidup harus menjadi berkat\n",
      "Hidup harus menjadi berkat\n",
      "Hidup harus menjadi berkat\n",
      "Hidup harus menjadi berkat\n",
      "Hidup harus menjadi berkat\n",
      "Hidup harus menjadi berkat\n",
      "Hidup harus menjadi berkat\n",
      "Hidup harus menjadi berkat\n",
      "Hidup harus menjadi berkat\n",
      "Hidup harus menjadi berkat\n",
      "Hidup harus menjadi berkat\n",
      "Hidup harus menjadi berkat\n",
      "Hidup harus menjadi berkat\n",
      "Hidup harus menjadi berkat\n",
      "Hidup harus menjadi berkat\n",
      "Hidup harus menjadi berkat\n",
      "Hidup harus menjadi berkat\n",
      "Hidup harus menjadi berkat\n",
      "Hidup harus menjadi berkat\n",
      "Hidup harus menjadi berkat\n"
     ]
    }
   ],
   "source": [
    "#menentukan banyak pengulangan\n",
    "n = 30\n",
    "\n",
    "#melakukan pengulangan\n",
    "i = 9\n",
    "\n",
    "while i <= n :\n",
    "    print (\"Hidup harus menjadi berkat\")\n",
    "    #diisi motto kalian\n",
    "    i = i + 1 # sesuaikan dengan atas agar fungsi perulangan dapat berhenti\n"
   ]
  },
  {
   "cell_type": "markdown",
   "metadata": {},
   "source": [
    "## Exercise 6.2\n",
    "\n",
    "Buatlah code seperti yang dicontohkan pada modul agar user dapat menginputkan sendiri jumlah n yang diinginkan"
   ]
  },
  {
   "cell_type": "code",
   "execution_count": 7,
   "metadata": {},
   "outputs": [
    {
     "name": "stdout",
     "output_type": "stream",
     "text": [
      "3\n",
      "4\n",
      "5\n",
      "6\n",
      "7\n",
      "8\n"
     ]
    }
   ],
   "source": [
    "#Kerjakan disini\n",
    "n = int(input(\"input nilai n:\"))\n",
    "i = 3\n",
    "\n",
    "while i <= n :\n",
    "    print (i)\n",
    "    i = i + 1"
   ]
  },
  {
   "cell_type": "markdown",
   "metadata": {},
   "source": [
    "## Excercise 6.3\n",
    "\n",
    "isilah xx, yy, dan tanda rumpang seperti pada exercise 6.1\n"
   ]
  },
  {
   "cell_type": "code",
   "execution_count": 8,
   "metadata": {},
   "outputs": [
    {
     "name": "stdout",
     "output_type": "stream",
     "text": [
      "Baris ke-9 : Hataraku Saibou\n",
      "Baris ke-10 : Hataraku Saibou\n",
      "Baris ke-11 : Hataraku Saibou\n",
      "Baris ke-12 : Hataraku Saibou\n",
      "Baris ke-13 : Hataraku Saibou\n",
      "Baris ke-14 : Hataraku Saibou\n",
      "Baris ke-15 : Hataraku Saibou\n",
      "Baris ke-16 : Hataraku Saibou\n",
      "Baris ke-17 : Hataraku Saibou\n",
      "Baris ke-18 : Hataraku Saibou\n",
      "Baris ke-19 : Hataraku Saibou\n",
      "Baris ke-20 : Hataraku Saibou\n",
      "Baris ke-21 : Hataraku Saibou\n",
      "Baris ke-22 : Hataraku Saibou\n",
      "Baris ke-23 : Hataraku Saibou\n",
      "Baris ke-24 : Hataraku Saibou\n",
      "Baris ke-25 : Hataraku Saibou\n",
      "Baris ke-26 : Hataraku Saibou\n",
      "Baris ke-27 : Hataraku Saibou\n",
      "Baris ke-28 : Hataraku Saibou\n",
      "Baris ke-29 : Hataraku Saibou\n",
      "Baris ke-30 : Hataraku Saibou\n"
     ]
    }
   ],
   "source": [
    "#melakukan pengulangan\n",
    "i = 9\n",
    "\n",
    "while i <= 30 :\n",
    "    print (\"Baris ke-%d : Hataraku Saibou\"%i)\n",
    "    #isi titik-titik dengan judul film favorit kalian\n",
    "    i = i + 1 "
   ]
  },
  {
   "cell_type": "markdown",
   "metadata": {},
   "source": [
    "## FOR LOOP\n",
    "\n",
    "## Exercise 6.4\n",
    "\n",
    "munculkan 3 dari 7 elemen yang berada di dalam list1 dan list2\n"
   ]
  },
  {
   "cell_type": "code",
   "execution_count": 9,
   "metadata": {},
   "outputs": [
    {
     "name": "stdout",
     "output_type": "stream",
     "text": [
      "5 Fuyunghai Bandung\n",
      "6 Ayam Bakar Solo\n",
      "7 Sate Ayam Semarang\n"
     ]
    }
   ],
   "source": [
    "list1 = [\"Sushi\",\"Ramen\",\"Ayam Goreng\",\"Udon\",\"Fuyunghai\",\"Ayam Bakar\",\"Sate Ayam\"] #masukkan 7 list makanan favorit kalian\n",
    "list2 = [\"Yogyakarta\",\"Jakarta Pusat\",\"Tangerang\",\"Bogor\",\"Bandung\",\"Solo\",\"Semarang\"] #masukkan 7 list kota favorit kalian\n",
    "\n",
    "for i in range(4,7) :\n",
    "    print(i+1, list1[i] , list2[i])"
   ]
  },
  {
   "cell_type": "markdown",
   "metadata": {},
   "source": [
    "## Perulangan Bersarang\n",
    "\n",
    "## Exercise 6.5"
   ]
  },
  {
   "cell_type": "code",
   "execution_count": 11,
   "metadata": {},
   "outputs": [
    {
     "name": "stdout",
     "output_type": "stream",
     "text": [
      "900 \n",
      "870 841 \n",
      "840 812 784 \n",
      "810 783 756 729 \n",
      "780 754 728 702 676 \n",
      "750 725 700 675 650 625 \n",
      "720 696 672 648 624 600 576 \n",
      "690 667 644 621 598 575 552 529 \n",
      "660 638 616 594 572 550 528 506 484 \n",
      "630 609 588 567 546 525 504 483 462 441 \n",
      "600 580 560 540 520 500 480 460 440 420 400 \n",
      "570 551 532 513 494 475 456 437 418 399 380 361 \n",
      "540 522 504 486 468 450 432 414 396 378 360 342 324 \n",
      "510 493 476 459 442 425 408 391 374 357 340 323 306 289 \n",
      "480 464 448 432 416 400 384 368 352 336 320 304 288 272 256 \n",
      "450 435 420 405 390 375 360 345 330 315 300 285 270 255 240 225 \n",
      "420 406 392 378 364 350 336 322 308 294 280 266 252 238 224 210 196 \n",
      "390 377 364 351 338 325 312 299 286 273 260 247 234 221 208 195 182 169 \n",
      "360 348 336 324 312 300 288 276 264 252 240 228 216 204 192 180 168 156 144 \n",
      "330 319 308 297 286 275 264 253 242 231 220 209 198 187 176 165 154 143 132 121 \n",
      "300 290 280 270 260 250 240 230 220 210 200 190 180 170 160 150 140 130 120 110 100 \n",
      "270 261 252 243 234 225 216 207 198 189 180 171 162 153 144 135 126 117 108 99 90 81 \n"
     ]
    }
   ],
   "source": [
    "i = 30\n",
    "while i >= 9:\n",
    "    j = 30\n",
    "    while j>=i:\n",
    "        print(\"%d \" % (i*j), end = '')\n",
    "        j = j - 1\n",
    "    print()\n",
    "    i-=1"
   ]
  },
  {
   "cell_type": "markdown",
   "metadata": {},
   "source": [
    "## Pernyataan Loncat\n",
    "\n",
    "## Exercise 6.\n",
    "\n",
    "Buatlah fungsi berikut agar muncul angka hingga berhenti sesuai dengan nilai qq\n",
    "qq = angka favorit kalian\n",
    "pp>qq"
   ]
  },
  {
   "cell_type": "code",
   "execution_count": 12,
   "metadata": {},
   "outputs": [
    {
     "name": "stdout",
     "output_type": "stream",
     "text": [
      "01234"
     ]
    }
   ],
   "source": [
    "for i in range(30):\n",
    "    print(i,end='')\n",
    "    if i == 4:\n",
    "        break"
   ]
  },
  {
   "cell_type": "markdown",
   "metadata": {},
   "source": [
    "***\n",
    "<h1 align=\"center\">WELL DONE</h1>\n",
    " \n",
    "***"
   ]
  }
 ],
 "metadata": {
  "interpreter": {
   "hash": "cd08f94adcf3cbae37fe85286256f4c2a10455ca9094fd053e9f3d3f09647223"
  },
  "kernelspec": {
   "display_name": "Python 3.9.7 64-bit",
   "language": "python",
   "name": "python3"
  },
  "language_info": {
   "codemirror_mode": {
    "name": "ipython",
    "version": 3
   },
   "file_extension": ".py",
   "mimetype": "text/x-python",
   "name": "python",
   "nbconvert_exporter": "python",
   "pygments_lexer": "ipython3",
   "version": "3.9.12"
  },
  "orig_nbformat": 4
 },
 "nbformat": 4,
 "nbformat_minor": 2
}
